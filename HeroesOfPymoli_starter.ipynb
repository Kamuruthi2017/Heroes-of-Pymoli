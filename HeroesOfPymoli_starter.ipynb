{
 "cells": [
  {
   "cell_type": "markdown",
   "metadata": {},
   "source": [
    "### Heroes Of Pymoli Data Analysis\n",
    "* The 40+ age group has the least percentage composition of(2.08%) while the peak age group falls between 20-24 (44.8%).\n",
    "* The most popular item,Oathbreaker, Last Hope of the Breaking Storm, was the most popular with a 12 purchase count.There were also other notable popular items;Fiery Glass Crusader,Extraction, Quickblade Of Trembling Hands and Nirvana that had a purchase count of 9.\n",
    "* The most popular item,Oathbreaker, Last Hope of the Breaking Storm  was also the most profitable item with a purchase count of 12 and a total purchase value is $50.76.\n",
    "\n",
    "\n"
   ]
  },
  {
   "cell_type": "markdown",
   "metadata": {},
   "source": [
    "### Note\n",
    "* Instructions have been included for each segment. You do not have to follow them exactly, but they are included to help you think through the steps."
   ]
  },
  {
   "cell_type": "code",
   "execution_count": 2,
   "metadata": {},
   "outputs": [
    {
     "data": {
      "text/html": [
       "<div>\n",
       "<style scoped>\n",
       "    .dataframe tbody tr th:only-of-type {\n",
       "        vertical-align: middle;\n",
       "    }\n",
       "\n",
       "    .dataframe tbody tr th {\n",
       "        vertical-align: top;\n",
       "    }\n",
       "\n",
       "    .dataframe thead th {\n",
       "        text-align: right;\n",
       "    }\n",
       "</style>\n",
       "<table border=\"1\" class=\"dataframe\">\n",
       "  <thead>\n",
       "    <tr style=\"text-align: right;\">\n",
       "      <th></th>\n",
       "      <th>Purchase ID</th>\n",
       "      <th>SN</th>\n",
       "      <th>Age</th>\n",
       "      <th>Gender</th>\n",
       "      <th>Item ID</th>\n",
       "      <th>Item Name</th>\n",
       "      <th>Price</th>\n",
       "    </tr>\n",
       "  </thead>\n",
       "  <tbody>\n",
       "    <tr>\n",
       "      <th>0</th>\n",
       "      <td>0</td>\n",
       "      <td>Lisim78</td>\n",
       "      <td>20</td>\n",
       "      <td>Male</td>\n",
       "      <td>108</td>\n",
       "      <td>Extraction, Quickblade Of Trembling Hands</td>\n",
       "      <td>3.53</td>\n",
       "    </tr>\n",
       "    <tr>\n",
       "      <th>1</th>\n",
       "      <td>1</td>\n",
       "      <td>Lisovynya38</td>\n",
       "      <td>40</td>\n",
       "      <td>Male</td>\n",
       "      <td>143</td>\n",
       "      <td>Frenzied Scimitar</td>\n",
       "      <td>1.56</td>\n",
       "    </tr>\n",
       "    <tr>\n",
       "      <th>2</th>\n",
       "      <td>2</td>\n",
       "      <td>Ithergue48</td>\n",
       "      <td>24</td>\n",
       "      <td>Male</td>\n",
       "      <td>92</td>\n",
       "      <td>Final Critic</td>\n",
       "      <td>4.88</td>\n",
       "    </tr>\n",
       "    <tr>\n",
       "      <th>3</th>\n",
       "      <td>3</td>\n",
       "      <td>Chamassasya86</td>\n",
       "      <td>24</td>\n",
       "      <td>Male</td>\n",
       "      <td>100</td>\n",
       "      <td>Blindscythe</td>\n",
       "      <td>3.27</td>\n",
       "    </tr>\n",
       "    <tr>\n",
       "      <th>4</th>\n",
       "      <td>4</td>\n",
       "      <td>Iskosia90</td>\n",
       "      <td>23</td>\n",
       "      <td>Male</td>\n",
       "      <td>131</td>\n",
       "      <td>Fury</td>\n",
       "      <td>1.44</td>\n",
       "    </tr>\n",
       "  </tbody>\n",
       "</table>\n",
       "</div>"
      ],
      "text/plain": [
       "   Purchase ID             SN  Age Gender  Item ID  \\\n",
       "0            0        Lisim78   20   Male      108   \n",
       "1            1    Lisovynya38   40   Male      143   \n",
       "2            2     Ithergue48   24   Male       92   \n",
       "3            3  Chamassasya86   24   Male      100   \n",
       "4            4      Iskosia90   23   Male      131   \n",
       "\n",
       "                                   Item Name  Price  \n",
       "0  Extraction, Quickblade Of Trembling Hands   3.53  \n",
       "1                          Frenzied Scimitar   1.56  \n",
       "2                               Final Critic   4.88  \n",
       "3                                Blindscythe   3.27  \n",
       "4                                       Fury   1.44  "
      ]
     },
     "execution_count": 2,
     "metadata": {},
     "output_type": "execute_result"
    }
   ],
   "source": [
    "# Dependencies and Setup\n",
    "import pandas as pd\n",
    "import numpy as np\n",
    "\n",
    "# File to Load (Remember to Change These)\n",
    "file_to_load = \"Resources/purchase_data.csv\"\n",
    "\n",
    "# Read Purchasing File and store into Pandas data frame\n",
    "purchase_data = pd.read_csv(file_to_load)\n",
    "purchase_data.head()"
   ]
  },
  {
   "cell_type": "markdown",
   "metadata": {},
   "source": [
    "## Player Count"
   ]
  },
  {
   "cell_type": "markdown",
   "metadata": {},
   "source": [
    "* Display the total number of players\n"
   ]
  },
  {
   "cell_type": "code",
   "execution_count": 3,
   "metadata": {},
   "outputs": [
    {
     "data": {
      "text/html": [
       "<div>\n",
       "<style scoped>\n",
       "    .dataframe tbody tr th:only-of-type {\n",
       "        vertical-align: middle;\n",
       "    }\n",
       "\n",
       "    .dataframe tbody tr th {\n",
       "        vertical-align: top;\n",
       "    }\n",
       "\n",
       "    .dataframe thead th {\n",
       "        text-align: right;\n",
       "    }\n",
       "</style>\n",
       "<table border=\"1\" class=\"dataframe\">\n",
       "  <thead>\n",
       "    <tr style=\"text-align: right;\">\n",
       "      <th></th>\n",
       "      <th>Total players</th>\n",
       "    </tr>\n",
       "  </thead>\n",
       "  <tbody>\n",
       "    <tr>\n",
       "      <th>0</th>\n",
       "      <td>576</td>\n",
       "    </tr>\n",
       "  </tbody>\n",
       "</table>\n",
       "</div>"
      ],
      "text/plain": [
       "   Total players\n",
       "0            576"
      ]
     },
     "execution_count": 3,
     "metadata": {},
     "output_type": "execute_result"
    }
   ],
   "source": [
    "#To create a unique array of players\n",
    "unique_SN = purchase_data[\"SN\"].unique()\n",
    "#The length of unique players will be equal to the length of the array\n",
    "unique_players=len(unique_SN)\n",
    "#Writing a dictionary of total players comprised of unique players\n",
    "total_players_dict={\"Total players\":[unique_players]}\n",
    "#Creating a dataframe\n",
    "total_players = pd.DataFrame(total_players_dict)\n",
    "total_players"
   ]
  },
  {
   "cell_type": "code",
   "execution_count": 4,
   "metadata": {},
   "outputs": [
    {
     "data": {
      "text/plain": [
       "576"
      ]
     },
     "execution_count": 4,
     "metadata": {},
     "output_type": "execute_result"
    }
   ],
   "source": [
    "total_players.iloc[0,0]"
   ]
  },
  {
   "cell_type": "code",
   "execution_count": 7,
   "metadata": {},
   "outputs": [
    {
     "data": {
      "text/html": [
       "<style  type=\"text/css\" >\n",
       "</style>  \n",
       "<table id=\"T_d4919614_0a45_11e9_9d19_e6a538f5bd9f\" > \n",
       "<thead>    <tr> \n",
       "        <th class=\"blank level0\" ></th> \n",
       "        <th class=\"col_heading level0 col0\" >Number of Unique Items</th> \n",
       "        <th class=\"col_heading level0 col1\" >Average Price</th> \n",
       "        <th class=\"col_heading level0 col2\" >Number of Purchases</th> \n",
       "        <th class=\"col_heading level0 col3\" >Total Revenue</th> \n",
       "    </tr></thead> \n",
       "<tbody>    <tr> \n",
       "        <th id=\"T_d4919614_0a45_11e9_9d19_e6a538f5bd9flevel0_row0\" class=\"row_heading level0 row0\" >0</th> \n",
       "        <td id=\"T_d4919614_0a45_11e9_9d19_e6a538f5bd9frow0_col0\" class=\"data row0 col0\" >183</td> \n",
       "        <td id=\"T_d4919614_0a45_11e9_9d19_e6a538f5bd9frow0_col1\" class=\"data row0 col1\" >$3.05</td> \n",
       "        <td id=\"T_d4919614_0a45_11e9_9d19_e6a538f5bd9frow0_col2\" class=\"data row0 col2\" >780</td> \n",
       "        <td id=\"T_d4919614_0a45_11e9_9d19_e6a538f5bd9frow0_col3\" class=\"data row0 col3\" >$2,379.77</td> \n",
       "    </tr></tbody> \n",
       "</table> "
      ],
      "text/plain": [
       "<pandas.io.formats.style.Styler at 0x16587c6df60>"
      ]
     },
     "execution_count": 7,
     "metadata": {},
     "output_type": "execute_result"
    }
   ],
   "source": [
    "#To define variables\n",
    "unique_items=len(purchase_data[\"Item ID\"].unique())\n",
    "average_price=purchase_data[\"Price\"].mean()\n",
    "number_of_purchases=purchase_data[\"Purchase ID\"].count()\n",
    "total_revenue=purchase_data[\"Price\"].sum()\n",
    "#To create a dataframe\n",
    "Summary_table = pd.DataFrame({\"Number of Unique Items\":[unique_items], \"Average Price\":[average_price], \"Number of Purchases\":[number_of_purchases], \n",
    "                         \"Total Revenue\":[total_revenue]})\n",
    "Summary_table\n",
    "# Format with currency style\n",
    "Summary_table.style.format({\"Average Price\":\"${:,.2f}\",\n",
    "                                \"Total Revenue\":\"${:,.2f}\"})\n"
   ]
  },
  {
   "cell_type": "markdown",
   "metadata": {},
   "source": [
    "## Purchasing Analysis (Total)"
   ]
  },
  {
   "cell_type": "markdown",
   "metadata": {},
   "source": [
    "* Run basic calculations to obtain number of unique items, average price, etc.\n",
    "\n",
    "\n",
    "* Create a summary data frame to hold the results\n",
    "\n",
    "\n",
    "* Optional: give the displayed data cleaner formatting\n",
    "\n",
    "\n",
    "* Display the summary data frame\n"
   ]
  },
  {
   "cell_type": "markdown",
   "metadata": {},
   "source": [
    "## Gender Demographics"
   ]
  },
  {
   "cell_type": "markdown",
   "metadata": {},
   "source": [
    "* Percentage and Count of Male Players\n",
    "\n",
    "\n",
    "* Percentage and Count of Female Players\n",
    "\n",
    "\n",
    "* Percentage and Count of Other / Non-Disclosed\n",
    "\n",
    "\n"
   ]
  },
  {
   "cell_type": "code",
   "execution_count": 4,
   "metadata": {},
   "outputs": [
    {
     "data": {
      "text/html": [
       "<div>\n",
       "<style scoped>\n",
       "    .dataframe tbody tr th:only-of-type {\n",
       "        vertical-align: middle;\n",
       "    }\n",
       "\n",
       "    .dataframe tbody tr th {\n",
       "        vertical-align: top;\n",
       "    }\n",
       "\n",
       "    .dataframe thead th {\n",
       "        text-align: right;\n",
       "    }\n",
       "</style>\n",
       "<table border=\"1\" class=\"dataframe\">\n",
       "  <thead>\n",
       "    <tr style=\"text-align: right;\">\n",
       "      <th></th>\n",
       "      <th>Total Count</th>\n",
       "      <th>Percentage of Players</th>\n",
       "    </tr>\n",
       "  </thead>\n",
       "  <tbody>\n",
       "    <tr>\n",
       "      <th>Male</th>\n",
       "      <td>484</td>\n",
       "      <td>84.027778</td>\n",
       "    </tr>\n",
       "    <tr>\n",
       "      <th>Female</th>\n",
       "      <td>81</td>\n",
       "      <td>14.062500</td>\n",
       "    </tr>\n",
       "    <tr>\n",
       "      <th>Other / Non-Disclosed</th>\n",
       "      <td>11</td>\n",
       "      <td>1.909722</td>\n",
       "    </tr>\n",
       "  </tbody>\n",
       "</table>\n",
       "</div>"
      ],
      "text/plain": [
       "                       Total Count  Percentage of Players\n",
       "Male                           484              84.027778\n",
       "Female                          81              14.062500\n",
       "Other / Non-Disclosed           11               1.909722"
      ]
     },
     "execution_count": 4,
     "metadata": {},
     "output_type": "execute_result"
    }
   ],
   "source": [
    "#To create a new copy of the data provided\n",
    "new_data=purchase_data\n",
    "#To eliminate the duplicates in the gender column\n",
    "player=new_data.drop_duplicates(subset=[\"Gender\",\"SN\"])\n",
    "count =player[\"Gender\"].value_counts()\n",
    "#To get the respective gender percents\n",
    "male_percent=count[0]/(total_players.iloc[0,0])*100\n",
    "female_percent=count[1]/(total_players.iloc[0,0])*100\n",
    "non_disclosed_percent=count[2]/(total_players.iloc[0,0])*100\n",
    "#To create a dataframe to combine the above \n",
    "gender_demographics=pd.DataFrame({\"Total Count\":count, \"Percentage of Players\":[male_percent, female_percent, non_disclosed_percent]})\n",
    "gender_demographics\n"
   ]
  },
  {
   "cell_type": "markdown",
   "metadata": {},
   "source": [
    "\n",
    "## Purchasing Analysis (Gender)"
   ]
  },
  {
   "cell_type": "markdown",
   "metadata": {},
   "source": [
    "* Run basic calculations to obtain purchase count, avg. purchase price, avg. purchase total per person etc. by gender\n",
    "* Create a summary data frame to hold the results\n",
    "* Optional: give the displayed data cleaner formatting\n",
    "* Display the summary data frame"
   ]
  },
  {
   "cell_type": "code",
   "execution_count": 93,
   "metadata": {},
   "outputs": [
    {
     "data": {
      "text/html": [
       "<style  type=\"text/css\" >\n",
       "</style>  \n",
       "<table id=\"T_1eb45dda_0628_11e9_899c_cfe4befe3c3b\" > \n",
       "<thead>    <tr> \n",
       "        <th class=\"blank level0\" ></th> \n",
       "        <th class=\"col_heading level0 col0\" >Purchase Count</th> \n",
       "        <th class=\"col_heading level0 col1\" >Average Purchase Price</th> \n",
       "        <th class=\"col_heading level0 col2\" >Total Purchase Value</th> \n",
       "        <th class=\"col_heading level0 col3\" >Average Total Purchase per person</th> \n",
       "    </tr>    <tr> \n",
       "        <th class=\"index_name level0\" >Gender</th> \n",
       "        <th class=\"blank\" ></th> \n",
       "        <th class=\"blank\" ></th> \n",
       "        <th class=\"blank\" ></th> \n",
       "        <th class=\"blank\" ></th> \n",
       "    </tr></thead> \n",
       "<tbody>    <tr> \n",
       "        <th id=\"T_1eb45dda_0628_11e9_899c_cfe4befe3c3blevel0_row0\" class=\"row_heading level0 row0\" >Female</th> \n",
       "        <td id=\"T_1eb45dda_0628_11e9_899c_cfe4befe3c3brow0_col0\" class=\"data row0 col0\" >113</td> \n",
       "        <td id=\"T_1eb45dda_0628_11e9_899c_cfe4befe3c3brow0_col1\" class=\"data row0 col1\" >$3.20</td> \n",
       "        <td id=\"T_1eb45dda_0628_11e9_899c_cfe4befe3c3brow0_col2\" class=\"data row0 col2\" >$361.94</td> \n",
       "        <td id=\"T_1eb45dda_0628_11e9_899c_cfe4befe3c3brow0_col3\" class=\"data row0 col3\" >$4.47</td> \n",
       "    </tr>    <tr> \n",
       "        <th id=\"T_1eb45dda_0628_11e9_899c_cfe4befe3c3blevel0_row1\" class=\"row_heading level0 row1\" >Male</th> \n",
       "        <td id=\"T_1eb45dda_0628_11e9_899c_cfe4befe3c3brow1_col0\" class=\"data row1 col0\" >652</td> \n",
       "        <td id=\"T_1eb45dda_0628_11e9_899c_cfe4befe3c3brow1_col1\" class=\"data row1 col1\" >$3.02</td> \n",
       "        <td id=\"T_1eb45dda_0628_11e9_899c_cfe4befe3c3brow1_col2\" class=\"data row1 col2\" >$1,967.64</td> \n",
       "        <td id=\"T_1eb45dda_0628_11e9_899c_cfe4befe3c3brow1_col3\" class=\"data row1 col3\" >$4.07</td> \n",
       "    </tr>    <tr> \n",
       "        <th id=\"T_1eb45dda_0628_11e9_899c_cfe4befe3c3blevel0_row2\" class=\"row_heading level0 row2\" >Other / Non-Disclosed</th> \n",
       "        <td id=\"T_1eb45dda_0628_11e9_899c_cfe4befe3c3brow2_col0\" class=\"data row2 col0\" >15</td> \n",
       "        <td id=\"T_1eb45dda_0628_11e9_899c_cfe4befe3c3brow2_col1\" class=\"data row2 col1\" >$3.35</td> \n",
       "        <td id=\"T_1eb45dda_0628_11e9_899c_cfe4befe3c3brow2_col2\" class=\"data row2 col2\" >$50.19</td> \n",
       "        <td id=\"T_1eb45dda_0628_11e9_899c_cfe4befe3c3brow2_col3\" class=\"data row2 col3\" >$4.56</td> \n",
       "    </tr></tbody> \n",
       "</table> "
      ],
      "text/plain": [
       "<pandas.io.formats.style.Styler at 0x1dfd794e1d0>"
      ]
     },
     "execution_count": 93,
     "metadata": {},
     "output_type": "execute_result"
    }
   ],
   "source": [
    "# Group purchase_data by Gender\n",
    "gender_data=purchase_data.groupby(['Gender'])\n",
    "# Count the total purchases by gender \n",
    "purchase_count = gender_data[\"Purchase ID\"].count()\n",
    "#To determine the eavrage price by gender\n",
    "average_price=gender_data[\"Price\"].mean()\n",
    "average_price\n",
    "#To determine total purchase value \n",
    "total_purchase_value=gender_data[\"Price\"].sum()\n",
    "total_purchase_value\n",
    "#To determine average purchase price per person\n",
    "average_price_per_person=total_purchase_value/count\n",
    "average_price_per_person\n",
    "#To create a summary data frame\n",
    "purchase_analysis=pd.DataFrame({\"Purchase Count\":purchase_count, \"Average Purchase Price\":average_price, \"Total Purchase Value\":total_purchase_value,\"Average Total Purchase per person\":average_price_per_person})\n",
    "purchase_analysis\n",
    "# Format with currency style\n",
    "purchase_analysis.style.format({\"Average Purchase Price\":\"${:,.2f}\",\n",
    "                                \"Total Purchase Value\":\"${:,.2f}\", \"Average Total Purchase per person\":\"${:,.2f}\"})"
   ]
  },
  {
   "cell_type": "markdown",
   "metadata": {},
   "source": [
    "## Age Demographics"
   ]
  },
  {
   "cell_type": "markdown",
   "metadata": {},
   "source": [
    "* Establish bins for ages\n",
    "\n",
    "\n",
    "* Categorize the existing players using the age bins. Hint: use pd.cut()\n",
    "\n",
    "\n",
    "* Calculate the numbers and percentages by age group\n",
    "\n",
    "\n",
    "* Create a summary data frame to hold the results\n",
    "\n",
    "\n",
    "* Optional: round the percentage column to two decimal points\n",
    "\n",
    "\n",
    "* Display Age Demographics Table\n"
   ]
  },
  {
   "cell_type": "code",
   "execution_count": 32,
   "metadata": {},
   "outputs": [
    {
     "data": {
      "text/html": [
       "<style  type=\"text/css\" >\n",
       "</style>  \n",
       "<table id=\"T_31024ed8_0702_11e9_8457_e6a538f5bd9f\" > \n",
       "<thead>    <tr> \n",
       "        <th class=\"blank level0\" ></th> \n",
       "        <th class=\"col_heading level0 col0\" >Percentage of Players</th> \n",
       "        <th class=\"col_heading level0 col1\" >Total Count</th> \n",
       "    </tr></thead> \n",
       "<tbody>    <tr> \n",
       "        <th id=\"T_31024ed8_0702_11e9_8457_e6a538f5bd9flevel0_row0\" class=\"row_heading level0 row0\" ><10</th> \n",
       "        <td id=\"T_31024ed8_0702_11e9_8457_e6a538f5bd9frow0_col0\" class=\"data row0 col0\" >2.95</td> \n",
       "        <td id=\"T_31024ed8_0702_11e9_8457_e6a538f5bd9frow0_col1\" class=\"data row0 col1\" >17</td> \n",
       "    </tr>    <tr> \n",
       "        <th id=\"T_31024ed8_0702_11e9_8457_e6a538f5bd9flevel0_row1\" class=\"row_heading level0 row1\" >10-14</th> \n",
       "        <td id=\"T_31024ed8_0702_11e9_8457_e6a538f5bd9frow1_col0\" class=\"data row1 col0\" >3.82</td> \n",
       "        <td id=\"T_31024ed8_0702_11e9_8457_e6a538f5bd9frow1_col1\" class=\"data row1 col1\" >22</td> \n",
       "    </tr>    <tr> \n",
       "        <th id=\"T_31024ed8_0702_11e9_8457_e6a538f5bd9flevel0_row2\" class=\"row_heading level0 row2\" >15-19</th> \n",
       "        <td id=\"T_31024ed8_0702_11e9_8457_e6a538f5bd9frow2_col0\" class=\"data row2 col0\" >18.58</td> \n",
       "        <td id=\"T_31024ed8_0702_11e9_8457_e6a538f5bd9frow2_col1\" class=\"data row2 col1\" >107</td> \n",
       "    </tr>    <tr> \n",
       "        <th id=\"T_31024ed8_0702_11e9_8457_e6a538f5bd9flevel0_row3\" class=\"row_heading level0 row3\" >20-24</th> \n",
       "        <td id=\"T_31024ed8_0702_11e9_8457_e6a538f5bd9frow3_col0\" class=\"data row3 col0\" >44.79</td> \n",
       "        <td id=\"T_31024ed8_0702_11e9_8457_e6a538f5bd9frow3_col1\" class=\"data row3 col1\" >258</td> \n",
       "    </tr>    <tr> \n",
       "        <th id=\"T_31024ed8_0702_11e9_8457_e6a538f5bd9flevel0_row4\" class=\"row_heading level0 row4\" >25-29</th> \n",
       "        <td id=\"T_31024ed8_0702_11e9_8457_e6a538f5bd9frow4_col0\" class=\"data row4 col0\" >13.37</td> \n",
       "        <td id=\"T_31024ed8_0702_11e9_8457_e6a538f5bd9frow4_col1\" class=\"data row4 col1\" >77</td> \n",
       "    </tr>    <tr> \n",
       "        <th id=\"T_31024ed8_0702_11e9_8457_e6a538f5bd9flevel0_row5\" class=\"row_heading level0 row5\" >30-34</th> \n",
       "        <td id=\"T_31024ed8_0702_11e9_8457_e6a538f5bd9frow5_col0\" class=\"data row5 col0\" >9.03</td> \n",
       "        <td id=\"T_31024ed8_0702_11e9_8457_e6a538f5bd9frow5_col1\" class=\"data row5 col1\" >52</td> \n",
       "    </tr>    <tr> \n",
       "        <th id=\"T_31024ed8_0702_11e9_8457_e6a538f5bd9flevel0_row6\" class=\"row_heading level0 row6\" >35-39</th> \n",
       "        <td id=\"T_31024ed8_0702_11e9_8457_e6a538f5bd9frow6_col0\" class=\"data row6 col0\" >5.38</td> \n",
       "        <td id=\"T_31024ed8_0702_11e9_8457_e6a538f5bd9frow6_col1\" class=\"data row6 col1\" >31</td> \n",
       "    </tr>    <tr> \n",
       "        <th id=\"T_31024ed8_0702_11e9_8457_e6a538f5bd9flevel0_row7\" class=\"row_heading level0 row7\" >40+</th> \n",
       "        <td id=\"T_31024ed8_0702_11e9_8457_e6a538f5bd9frow7_col0\" class=\"data row7 col0\" >2.08</td> \n",
       "        <td id=\"T_31024ed8_0702_11e9_8457_e6a538f5bd9frow7_col1\" class=\"data row7 col1\" >12</td> \n",
       "    </tr></tbody> \n",
       "</table> "
      ],
      "text/plain": [
       "<pandas.io.formats.style.Styler at 0x215d008cb70>"
      ]
     },
     "execution_count": 32,
     "metadata": {},
     "output_type": "execute_result"
    }
   ],
   "source": [
    "# Create the bins in which Data will be held\n",
    "bins= [0,9,14,19,24,29,34,39,1000]\n",
    "group_names=['<10','10-14','15-19','20-24','25-29','30-34','35-39','40+']\n",
    "\n",
    "# Segment and sort age values into bins established above\n",
    "purchase_data[\"Age Group\"] = pd.cut(purchase_data[\"Age\"],bins, labels=group_names)\n",
    "purchase_data\n",
    "\n",
    "# Create new data frame with the added \"Age Group\" and group it\n",
    "age_grouped = purchase_data.groupby(\"Age Group\")\n",
    "\n",
    "\n",
    "# # Count total players by age category\n",
    "total_count_age = age_grouped[\"SN\"].nunique()\n",
    "\n",
    "#  Calculate percentages by age category \n",
    "percentage_by_age = (total_count_age/total_players.iloc[0,0]) * 100\n",
    "percentage_by_age\n",
    "\n",
    "# # Create data frame with obtained values\n",
    "age_demographics = pd.DataFrame({\"Percentage of Players\": percentage_by_age, \"Total Count\": total_count_age})\n",
    "\n",
    "# # Format the data frame with no index name in the corner\n",
    "age_demographics.index.name = None\n",
    "\n",
    "# # Format percentage with two decimal places \n",
    "age_demographics.style.format({\"Percentage of Players\":\"{:,.2f}\"})"
   ]
  },
  {
   "cell_type": "markdown",
   "metadata": {},
   "source": [
    "## Purchasing Analysis (Age)"
   ]
  },
  {
   "cell_type": "markdown",
   "metadata": {},
   "source": [
    "* Bin the purchase_data data frame by age\n",
    "\n",
    "\n",
    "* Run basic calculations to obtain purchase count, avg. purchase price, avg. purchase total per person etc. in the table below\n",
    "\n",
    "\n",
    "* Create a summary data frame to hold the results\n",
    "\n",
    "\n",
    "* Optional: give the displayed data cleaner formatting\n",
    "\n",
    "\n",
    "* Display the summary data frame"
   ]
  },
  {
   "cell_type": "code",
   "execution_count": 44,
   "metadata": {},
   "outputs": [
    {
     "data": {
      "text/html": [
       "<style  type=\"text/css\" >\n",
       "</style>  \n",
       "<table id=\"T_022c35ca_0703_11e9_b483_e6a538f5bd9f\" > \n",
       "<thead>    <tr> \n",
       "        <th class=\"blank level0\" ></th> \n",
       "        <th class=\"col_heading level0 col0\" >Purchase Count</th> \n",
       "        <th class=\"col_heading level0 col1\" >Average Purchase Price</th> \n",
       "        <th class=\"col_heading level0 col2\" >Total Purchase Value</th> \n",
       "        <th class=\"col_heading level0 col3\" >Average Purchase Total per Person</th> \n",
       "    </tr></thead> \n",
       "<tbody>    <tr> \n",
       "        <th id=\"T_022c35ca_0703_11e9_b483_e6a538f5bd9flevel0_row0\" class=\"row_heading level0 row0\" ><10</th> \n",
       "        <td id=\"T_022c35ca_0703_11e9_b483_e6a538f5bd9frow0_col0\" class=\"data row0 col0\" >23</td> \n",
       "        <td id=\"T_022c35ca_0703_11e9_b483_e6a538f5bd9frow0_col1\" class=\"data row0 col1\" >$3.35</td> \n",
       "        <td id=\"T_022c35ca_0703_11e9_b483_e6a538f5bd9frow0_col2\" class=\"data row0 col2\" >$77.13</td> \n",
       "        <td id=\"T_022c35ca_0703_11e9_b483_e6a538f5bd9frow0_col3\" class=\"data row0 col3\" >$4.54</td> \n",
       "    </tr>    <tr> \n",
       "        <th id=\"T_022c35ca_0703_11e9_b483_e6a538f5bd9flevel0_row1\" class=\"row_heading level0 row1\" >10-14</th> \n",
       "        <td id=\"T_022c35ca_0703_11e9_b483_e6a538f5bd9frow1_col0\" class=\"data row1 col0\" >28</td> \n",
       "        <td id=\"T_022c35ca_0703_11e9_b483_e6a538f5bd9frow1_col1\" class=\"data row1 col1\" >$2.96</td> \n",
       "        <td id=\"T_022c35ca_0703_11e9_b483_e6a538f5bd9frow1_col2\" class=\"data row1 col2\" >$82.78</td> \n",
       "        <td id=\"T_022c35ca_0703_11e9_b483_e6a538f5bd9frow1_col3\" class=\"data row1 col3\" >$3.76</td> \n",
       "    </tr>    <tr> \n",
       "        <th id=\"T_022c35ca_0703_11e9_b483_e6a538f5bd9flevel0_row2\" class=\"row_heading level0 row2\" >15-19</th> \n",
       "        <td id=\"T_022c35ca_0703_11e9_b483_e6a538f5bd9frow2_col0\" class=\"data row2 col0\" >136</td> \n",
       "        <td id=\"T_022c35ca_0703_11e9_b483_e6a538f5bd9frow2_col1\" class=\"data row2 col1\" >$3.04</td> \n",
       "        <td id=\"T_022c35ca_0703_11e9_b483_e6a538f5bd9frow2_col2\" class=\"data row2 col2\" >$412.89</td> \n",
       "        <td id=\"T_022c35ca_0703_11e9_b483_e6a538f5bd9frow2_col3\" class=\"data row2 col3\" >$3.86</td> \n",
       "    </tr>    <tr> \n",
       "        <th id=\"T_022c35ca_0703_11e9_b483_e6a538f5bd9flevel0_row3\" class=\"row_heading level0 row3\" >20-24</th> \n",
       "        <td id=\"T_022c35ca_0703_11e9_b483_e6a538f5bd9frow3_col0\" class=\"data row3 col0\" >365</td> \n",
       "        <td id=\"T_022c35ca_0703_11e9_b483_e6a538f5bd9frow3_col1\" class=\"data row3 col1\" >$3.05</td> \n",
       "        <td id=\"T_022c35ca_0703_11e9_b483_e6a538f5bd9frow3_col2\" class=\"data row3 col2\" >$1,114.06</td> \n",
       "        <td id=\"T_022c35ca_0703_11e9_b483_e6a538f5bd9frow3_col3\" class=\"data row3 col3\" >$4.32</td> \n",
       "    </tr>    <tr> \n",
       "        <th id=\"T_022c35ca_0703_11e9_b483_e6a538f5bd9flevel0_row4\" class=\"row_heading level0 row4\" >25-29</th> \n",
       "        <td id=\"T_022c35ca_0703_11e9_b483_e6a538f5bd9frow4_col0\" class=\"data row4 col0\" >101</td> \n",
       "        <td id=\"T_022c35ca_0703_11e9_b483_e6a538f5bd9frow4_col1\" class=\"data row4 col1\" >$2.90</td> \n",
       "        <td id=\"T_022c35ca_0703_11e9_b483_e6a538f5bd9frow4_col2\" class=\"data row4 col2\" >$293.00</td> \n",
       "        <td id=\"T_022c35ca_0703_11e9_b483_e6a538f5bd9frow4_col3\" class=\"data row4 col3\" >$3.81</td> \n",
       "    </tr>    <tr> \n",
       "        <th id=\"T_022c35ca_0703_11e9_b483_e6a538f5bd9flevel0_row5\" class=\"row_heading level0 row5\" >30-34</th> \n",
       "        <td id=\"T_022c35ca_0703_11e9_b483_e6a538f5bd9frow5_col0\" class=\"data row5 col0\" >73</td> \n",
       "        <td id=\"T_022c35ca_0703_11e9_b483_e6a538f5bd9frow5_col1\" class=\"data row5 col1\" >$2.93</td> \n",
       "        <td id=\"T_022c35ca_0703_11e9_b483_e6a538f5bd9frow5_col2\" class=\"data row5 col2\" >$214.00</td> \n",
       "        <td id=\"T_022c35ca_0703_11e9_b483_e6a538f5bd9frow5_col3\" class=\"data row5 col3\" >$4.12</td> \n",
       "    </tr>    <tr> \n",
       "        <th id=\"T_022c35ca_0703_11e9_b483_e6a538f5bd9flevel0_row6\" class=\"row_heading level0 row6\" >35-39</th> \n",
       "        <td id=\"T_022c35ca_0703_11e9_b483_e6a538f5bd9frow6_col0\" class=\"data row6 col0\" >41</td> \n",
       "        <td id=\"T_022c35ca_0703_11e9_b483_e6a538f5bd9frow6_col1\" class=\"data row6 col1\" >$3.60</td> \n",
       "        <td id=\"T_022c35ca_0703_11e9_b483_e6a538f5bd9frow6_col2\" class=\"data row6 col2\" >$147.67</td> \n",
       "        <td id=\"T_022c35ca_0703_11e9_b483_e6a538f5bd9frow6_col3\" class=\"data row6 col3\" >$4.76</td> \n",
       "    </tr>    <tr> \n",
       "        <th id=\"T_022c35ca_0703_11e9_b483_e6a538f5bd9flevel0_row7\" class=\"row_heading level0 row7\" >40+</th> \n",
       "        <td id=\"T_022c35ca_0703_11e9_b483_e6a538f5bd9frow7_col0\" class=\"data row7 col0\" >13</td> \n",
       "        <td id=\"T_022c35ca_0703_11e9_b483_e6a538f5bd9frow7_col1\" class=\"data row7 col1\" >$2.94</td> \n",
       "        <td id=\"T_022c35ca_0703_11e9_b483_e6a538f5bd9frow7_col2\" class=\"data row7 col2\" >$38.24</td> \n",
       "        <td id=\"T_022c35ca_0703_11e9_b483_e6a538f5bd9frow7_col3\" class=\"data row7 col3\" >$3.19</td> \n",
       "    </tr></tbody> \n",
       "</table> "
      ],
      "text/plain": [
       "<pandas.io.formats.style.Styler at 0x215d008ce80>"
      ]
     },
     "execution_count": 44,
     "metadata": {},
     "output_type": "execute_result"
    }
   ],
   "source": [
    "# Count purchases by age group\n",
    "purchase_count_age = age_grouped[\"Purchase ID\"].count()\n",
    "purchase_count_age\n",
    "\n",
    "# # Obtain average purchase price by age group \n",
    "avg_purchase_price_age = age_grouped[\"Price\"].mean()\n",
    "avg_purchase_price_age\n",
    "\n",
    "# # Calculate total purchase value by age group \n",
    "total_purchase_value = age_grouped[\"Price\"].sum()\n",
    "total_purchase_value\n",
    "\n",
    "#  Calculate the average purchase per person in the age group \n",
    "avg_purchase_per_person_age = total_purchase_value/total_count_age\n",
    "avg_purchase_per_person_age\n",
    "\n",
    "# # Create data frame with obtained values\n",
    "age_demographics = pd.DataFrame({\"Purchase Count\": purchase_count_age,\n",
    "                                  \"Average Purchase Price\": avg_purchase_price_age,\n",
    "                                \"Total Purchase Value\":total_purchase_value,\n",
    "                                \"Average Purchase Total per Person\": avg_purchase_per_person_age})\n",
    "age_demographics\n",
    "\n",
    "# Format the data frame with no index name in the corner\n",
    "age_demographics.index.name = None\n",
    "\n",
    "# # Format with currency style\n",
    "age_demographics.style.format({\"Average Purchase Price\":\"${:,.2f}\",\n",
    "                              \"Total Purchase Value\":\"${:,.2f}\",\n",
    "                               \"Average Purchase Total per Person\":\"${:,.2f}\"})"
   ]
  },
  {
   "cell_type": "markdown",
   "metadata": {},
   "source": [
    "## Top Spenders"
   ]
  },
  {
   "cell_type": "markdown",
   "metadata": {},
   "source": [
    "* Run basic calculations to obtain the results in the table below\n",
    "\n",
    "\n",
    "* Create a summary data frame to hold the results\n",
    "\n",
    "\n",
    "* Sort the total purchase value column in descending order\n",
    "\n",
    "\n",
    "* Optional: give the displayed data cleaner formatting\n",
    "\n",
    "\n",
    "* Display a preview of the summary data frame\n",
    "\n"
   ]
  },
  {
   "cell_type": "code",
   "execution_count": 65,
   "metadata": {},
   "outputs": [
    {
     "data": {
      "text/html": [
       "<style  type=\"text/css\" >\n",
       "</style>  \n",
       "<table id=\"T_69fdb1d8_061f_11e9_8e11_cfe4befe3c3b\" > \n",
       "<thead>    <tr> \n",
       "        <th class=\"blank level0\" ></th> \n",
       "        <th class=\"col_heading level0 col0\" >Purchase Count</th> \n",
       "        <th class=\"col_heading level0 col1\" >Average Purchase Price</th> \n",
       "        <th class=\"col_heading level0 col2\" >Total Purchase Value</th> \n",
       "    </tr>    <tr> \n",
       "        <th class=\"index_name level0\" >SN</th> \n",
       "        <th class=\"blank\" ></th> \n",
       "        <th class=\"blank\" ></th> \n",
       "        <th class=\"blank\" ></th> \n",
       "    </tr></thead> \n",
       "<tbody>    <tr> \n",
       "        <th id=\"T_69fdb1d8_061f_11e9_8e11_cfe4befe3c3blevel0_row0\" class=\"row_heading level0 row0\" >Lisosia93</th> \n",
       "        <td id=\"T_69fdb1d8_061f_11e9_8e11_cfe4befe3c3brow0_col0\" class=\"data row0 col0\" >5</td> \n",
       "        <td id=\"T_69fdb1d8_061f_11e9_8e11_cfe4befe3c3brow0_col1\" class=\"data row0 col1\" >$3.79</td> \n",
       "        <td id=\"T_69fdb1d8_061f_11e9_8e11_cfe4befe3c3brow0_col2\" class=\"data row0 col2\" >$18.96</td> \n",
       "    </tr>    <tr> \n",
       "        <th id=\"T_69fdb1d8_061f_11e9_8e11_cfe4befe3c3blevel0_row1\" class=\"row_heading level0 row1\" >Idastidru52</th> \n",
       "        <td id=\"T_69fdb1d8_061f_11e9_8e11_cfe4befe3c3brow1_col0\" class=\"data row1 col0\" >4</td> \n",
       "        <td id=\"T_69fdb1d8_061f_11e9_8e11_cfe4befe3c3brow1_col1\" class=\"data row1 col1\" >$3.86</td> \n",
       "        <td id=\"T_69fdb1d8_061f_11e9_8e11_cfe4befe3c3brow1_col2\" class=\"data row1 col2\" >$15.45</td> \n",
       "    </tr>    <tr> \n",
       "        <th id=\"T_69fdb1d8_061f_11e9_8e11_cfe4befe3c3blevel0_row2\" class=\"row_heading level0 row2\" >Chamjask73</th> \n",
       "        <td id=\"T_69fdb1d8_061f_11e9_8e11_cfe4befe3c3brow2_col0\" class=\"data row2 col0\" >3</td> \n",
       "        <td id=\"T_69fdb1d8_061f_11e9_8e11_cfe4befe3c3brow2_col1\" class=\"data row2 col1\" >$4.61</td> \n",
       "        <td id=\"T_69fdb1d8_061f_11e9_8e11_cfe4befe3c3brow2_col2\" class=\"data row2 col2\" >$13.83</td> \n",
       "    </tr>    <tr> \n",
       "        <th id=\"T_69fdb1d8_061f_11e9_8e11_cfe4befe3c3blevel0_row3\" class=\"row_heading level0 row3\" >Iral74</th> \n",
       "        <td id=\"T_69fdb1d8_061f_11e9_8e11_cfe4befe3c3brow3_col0\" class=\"data row3 col0\" >4</td> \n",
       "        <td id=\"T_69fdb1d8_061f_11e9_8e11_cfe4befe3c3brow3_col1\" class=\"data row3 col1\" >$3.40</td> \n",
       "        <td id=\"T_69fdb1d8_061f_11e9_8e11_cfe4befe3c3brow3_col2\" class=\"data row3 col2\" >$13.62</td> \n",
       "    </tr>    <tr> \n",
       "        <th id=\"T_69fdb1d8_061f_11e9_8e11_cfe4befe3c3blevel0_row4\" class=\"row_heading level0 row4\" >Iskadarya95</th> \n",
       "        <td id=\"T_69fdb1d8_061f_11e9_8e11_cfe4befe3c3brow4_col0\" class=\"data row4 col0\" >3</td> \n",
       "        <td id=\"T_69fdb1d8_061f_11e9_8e11_cfe4befe3c3brow4_col1\" class=\"data row4 col1\" >$4.37</td> \n",
       "        <td id=\"T_69fdb1d8_061f_11e9_8e11_cfe4befe3c3brow4_col2\" class=\"data row4 col2\" >$13.10</td> \n",
       "    </tr></tbody> \n",
       "</table> "
      ],
      "text/plain": [
       "<pandas.io.formats.style.Styler at 0x1dfd78be320>"
      ]
     },
     "execution_count": 65,
     "metadata": {},
     "output_type": "execute_result"
    }
   ],
   "source": [
    "# Group purchase data by screen names\n",
    "spender_stats = purchase_data.groupby(\"SN\")\n",
    "\n",
    "# Count the total purchases by name\n",
    "purchase_count_spender = spender_stats[\"Purchase ID\"].count()\n",
    "\n",
    "# Calculate the average purchase by name \n",
    "avg_purchase_price_spender = spender_stats[\"Price\"].mean()\n",
    "\n",
    "# Calculate purchase total \n",
    "purchase_total_spender = spender_stats[\"Price\"].sum()\n",
    "\n",
    "# Create data frame with obtained values\n",
    "top_spenders = pd.DataFrame({\"Purchase Count\": purchase_count_spender,\n",
    "                             \"Average Purchase Price\": avg_purchase_price_spender,\n",
    "                             \"Total Purchase Value\":purchase_total_spender})\n",
    "\n",
    "# Sort in descending order to obtain top 5 spender names \n",
    "formatted_spenders = top_spenders.sort_values([\"Total Purchase Value\"], ascending=False).head()\n",
    "\n",
    "# Format with currency style\n",
    "formatted_spenders.style.format({\"Average Purchase Total\":\"${:,.2f}\",\n",
    "                                 \"Average Purchase Price\":\"${:,.2f}\", \n",
    "                                 \"Total Purchase Value\":\"${:,.2f}\"})"
   ]
  },
  {
   "cell_type": "markdown",
   "metadata": {},
   "source": [
    "## Most Popular Items"
   ]
  },
  {
   "cell_type": "markdown",
   "metadata": {},
   "source": [
    "* Retrieve the Item ID, Item Name, and Item Price columns\n",
    "\n",
    "\n",
    "* Group by Item ID and Item Name. Perform calculations to obtain purchase count, item price, and total purchase value\n",
    "\n",
    "\n",
    "* Create a summary data frame to hold the results\n",
    "\n",
    "\n",
    "* Sort the purchase count column in descending order\n",
    "\n",
    "\n",
    "* Optional: give the displayed data cleaner formatting\n",
    "\n",
    "\n",
    "* Display a preview of the summary data frame\n",
    "\n"
   ]
  },
  {
   "cell_type": "code",
   "execution_count": 85,
   "metadata": {},
   "outputs": [
    {
     "data": {
      "text/html": [
       "<style  type=\"text/css\" >\n",
       "</style>  \n",
       "<table id=\"T_b1bbde7e_0626_11e9_9373_cfe4befe3c3b\" > \n",
       "<thead>    <tr> \n",
       "        <th class=\"blank\" ></th> \n",
       "        <th class=\"blank level0\" ></th> \n",
       "        <th class=\"col_heading level0 col0\" >Purchase Count</th> \n",
       "        <th class=\"col_heading level0 col1\" >Item Price</th> \n",
       "        <th class=\"col_heading level0 col2\" >Total Purchase Value</th> \n",
       "    </tr>    <tr> \n",
       "        <th class=\"index_name level0\" >Item ID</th> \n",
       "        <th class=\"index_name level1\" >Item Name</th> \n",
       "        <th class=\"blank\" ></th> \n",
       "        <th class=\"blank\" ></th> \n",
       "        <th class=\"blank\" ></th> \n",
       "    </tr></thead> \n",
       "<tbody>    <tr> \n",
       "        <th id=\"T_b1bbde7e_0626_11e9_9373_cfe4befe3c3blevel0_row0\" class=\"row_heading level0 row0\" >178</th> \n",
       "        <th id=\"T_b1bbde7e_0626_11e9_9373_cfe4befe3c3blevel1_row0\" class=\"row_heading level1 row0\" >Oathbreaker, Last Hope of the Breaking Storm</th> \n",
       "        <td id=\"T_b1bbde7e_0626_11e9_9373_cfe4befe3c3brow0_col0\" class=\"data row0 col0\" >12</td> \n",
       "        <td id=\"T_b1bbde7e_0626_11e9_9373_cfe4befe3c3brow0_col1\" class=\"data row0 col1\" >$4.23</td> \n",
       "        <td id=\"T_b1bbde7e_0626_11e9_9373_cfe4befe3c3brow0_col2\" class=\"data row0 col2\" >$50.76</td> \n",
       "    </tr>    <tr> \n",
       "        <th id=\"T_b1bbde7e_0626_11e9_9373_cfe4befe3c3blevel0_row1\" class=\"row_heading level0 row1\" >145</th> \n",
       "        <th id=\"T_b1bbde7e_0626_11e9_9373_cfe4befe3c3blevel1_row1\" class=\"row_heading level1 row1\" >Fiery Glass Crusader</th> \n",
       "        <td id=\"T_b1bbde7e_0626_11e9_9373_cfe4befe3c3brow1_col0\" class=\"data row1 col0\" >9</td> \n",
       "        <td id=\"T_b1bbde7e_0626_11e9_9373_cfe4befe3c3brow1_col1\" class=\"data row1 col1\" >$4.58</td> \n",
       "        <td id=\"T_b1bbde7e_0626_11e9_9373_cfe4befe3c3brow1_col2\" class=\"data row1 col2\" >$41.22</td> \n",
       "    </tr>    <tr> \n",
       "        <th id=\"T_b1bbde7e_0626_11e9_9373_cfe4befe3c3blevel0_row2\" class=\"row_heading level0 row2\" >108</th> \n",
       "        <th id=\"T_b1bbde7e_0626_11e9_9373_cfe4befe3c3blevel1_row2\" class=\"row_heading level1 row2\" >Extraction, Quickblade Of Trembling Hands</th> \n",
       "        <td id=\"T_b1bbde7e_0626_11e9_9373_cfe4befe3c3brow2_col0\" class=\"data row2 col0\" >9</td> \n",
       "        <td id=\"T_b1bbde7e_0626_11e9_9373_cfe4befe3c3brow2_col1\" class=\"data row2 col1\" >$3.53</td> \n",
       "        <td id=\"T_b1bbde7e_0626_11e9_9373_cfe4befe3c3brow2_col2\" class=\"data row2 col2\" >$31.77</td> \n",
       "    </tr>    <tr> \n",
       "        <th id=\"T_b1bbde7e_0626_11e9_9373_cfe4befe3c3blevel0_row3\" class=\"row_heading level0 row3\" >82</th> \n",
       "        <th id=\"T_b1bbde7e_0626_11e9_9373_cfe4befe3c3blevel1_row3\" class=\"row_heading level1 row3\" >Nirvana</th> \n",
       "        <td id=\"T_b1bbde7e_0626_11e9_9373_cfe4befe3c3brow3_col0\" class=\"data row3 col0\" >9</td> \n",
       "        <td id=\"T_b1bbde7e_0626_11e9_9373_cfe4befe3c3brow3_col1\" class=\"data row3 col1\" >$4.90</td> \n",
       "        <td id=\"T_b1bbde7e_0626_11e9_9373_cfe4befe3c3brow3_col2\" class=\"data row3 col2\" >$44.10</td> \n",
       "    </tr>    <tr> \n",
       "        <th id=\"T_b1bbde7e_0626_11e9_9373_cfe4befe3c3blevel0_row4\" class=\"row_heading level0 row4\" >19</th> \n",
       "        <th id=\"T_b1bbde7e_0626_11e9_9373_cfe4befe3c3blevel1_row4\" class=\"row_heading level1 row4\" >Pursuit, Cudgel of Necromancy</th> \n",
       "        <td id=\"T_b1bbde7e_0626_11e9_9373_cfe4befe3c3brow4_col0\" class=\"data row4 col0\" >8</td> \n",
       "        <td id=\"T_b1bbde7e_0626_11e9_9373_cfe4befe3c3brow4_col1\" class=\"data row4 col1\" >$1.02</td> \n",
       "        <td id=\"T_b1bbde7e_0626_11e9_9373_cfe4befe3c3brow4_col2\" class=\"data row4 col2\" >$8.16</td> \n",
       "    </tr></tbody> \n",
       "</table> "
      ],
      "text/plain": [
       "<pandas.io.formats.style.Styler at 0x1dfd7931470>"
      ]
     },
     "execution_count": 85,
     "metadata": {},
     "output_type": "execute_result"
    }
   ],
   "source": [
    "# Create new data frame with items related information \n",
    "items = purchase_data[[\"Item ID\", \"Item Name\", \"Price\"]]\n",
    "# Group the item data by item id and item name \n",
    "item_stats = items.groupby([\"Item ID\",\"Item Name\"])\n",
    "# Count the number of times an item has been purchased \n",
    "purchase_count_item = item_stats[\"Price\"].count()\n",
    "# Calcualte the purchase value per item \n",
    "purchase_value = (item_stats[\"Price\"].sum()) \n",
    "# Find individual item price\n",
    "item_price = purchase_value/purchase_count_item\n",
    "# Create data frame with obtained values\n",
    "most_popular_items = pd.DataFrame({\"Purchase Count\": purchase_count_item, \n",
    "                                   \"Item Price\": item_price,\n",
    "                                   \"Total Purchase Value\":purchase_value})\n",
    "# Sort in descending order to obtain top spender names and provide top 5 item names\n",
    "popular_formatted = most_popular_items.sort_values([\"Purchase Count\"], ascending=False).head()\n",
    "# Format with currency style\n",
    "popular_formatted.style.format({\"Item Price\":\"${:,.2f}\",\n",
    "                                \"Total Purchase Value\":\"${:,.2f}\"})\n",
    "\n"
   ]
  },
  {
   "cell_type": "markdown",
   "metadata": {},
   "source": [
    "## Most Profitable Items"
   ]
  },
  {
   "cell_type": "markdown",
   "metadata": {},
   "source": [
    "* Sort the above table by total purchase value in descending order\n",
    "\n",
    "\n",
    "* Optional: give the displayed data cleaner formatting\n",
    "\n",
    "\n",
    "* Display a preview of the data frame\n",
    "\n"
   ]
  },
  {
   "cell_type": "code",
   "execution_count": 88,
   "metadata": {
    "scrolled": true
   },
   "outputs": [
    {
     "data": {
      "text/html": [
       "<style  type=\"text/css\" >\n",
       "</style>  \n",
       "<table id=\"T_43da1aa4_0627_11e9_9529_cfe4befe3c3b\" > \n",
       "<thead>    <tr> \n",
       "        <th class=\"blank\" ></th> \n",
       "        <th class=\"blank level0\" ></th> \n",
       "        <th class=\"col_heading level0 col0\" >Purchase Count</th> \n",
       "        <th class=\"col_heading level0 col1\" >Item Price</th> \n",
       "        <th class=\"col_heading level0 col2\" >Total Purchase Value</th> \n",
       "    </tr>    <tr> \n",
       "        <th class=\"index_name level0\" >Item ID</th> \n",
       "        <th class=\"index_name level1\" >Item Name</th> \n",
       "        <th class=\"blank\" ></th> \n",
       "        <th class=\"blank\" ></th> \n",
       "        <th class=\"blank\" ></th> \n",
       "    </tr></thead> \n",
       "<tbody>    <tr> \n",
       "        <th id=\"T_43da1aa4_0627_11e9_9529_cfe4befe3c3blevel0_row0\" class=\"row_heading level0 row0\" >178</th> \n",
       "        <th id=\"T_43da1aa4_0627_11e9_9529_cfe4befe3c3blevel1_row0\" class=\"row_heading level1 row0\" >Oathbreaker, Last Hope of the Breaking Storm</th> \n",
       "        <td id=\"T_43da1aa4_0627_11e9_9529_cfe4befe3c3brow0_col0\" class=\"data row0 col0\" >12</td> \n",
       "        <td id=\"T_43da1aa4_0627_11e9_9529_cfe4befe3c3brow0_col1\" class=\"data row0 col1\" >$4.23</td> \n",
       "        <td id=\"T_43da1aa4_0627_11e9_9529_cfe4befe3c3brow0_col2\" class=\"data row0 col2\" >$50.76</td> \n",
       "    </tr>    <tr> \n",
       "        <th id=\"T_43da1aa4_0627_11e9_9529_cfe4befe3c3blevel0_row1\" class=\"row_heading level0 row1\" >145</th> \n",
       "        <th id=\"T_43da1aa4_0627_11e9_9529_cfe4befe3c3blevel1_row1\" class=\"row_heading level1 row1\" >Fiery Glass Crusader</th> \n",
       "        <td id=\"T_43da1aa4_0627_11e9_9529_cfe4befe3c3brow1_col0\" class=\"data row1 col0\" >9</td> \n",
       "        <td id=\"T_43da1aa4_0627_11e9_9529_cfe4befe3c3brow1_col1\" class=\"data row1 col1\" >$4.58</td> \n",
       "        <td id=\"T_43da1aa4_0627_11e9_9529_cfe4befe3c3brow1_col2\" class=\"data row1 col2\" >$41.22</td> \n",
       "    </tr>    <tr> \n",
       "        <th id=\"T_43da1aa4_0627_11e9_9529_cfe4befe3c3blevel0_row2\" class=\"row_heading level0 row2\" >108</th> \n",
       "        <th id=\"T_43da1aa4_0627_11e9_9529_cfe4befe3c3blevel1_row2\" class=\"row_heading level1 row2\" >Extraction, Quickblade Of Trembling Hands</th> \n",
       "        <td id=\"T_43da1aa4_0627_11e9_9529_cfe4befe3c3brow2_col0\" class=\"data row2 col0\" >9</td> \n",
       "        <td id=\"T_43da1aa4_0627_11e9_9529_cfe4befe3c3brow2_col1\" class=\"data row2 col1\" >$3.53</td> \n",
       "        <td id=\"T_43da1aa4_0627_11e9_9529_cfe4befe3c3brow2_col2\" class=\"data row2 col2\" >$31.77</td> \n",
       "    </tr>    <tr> \n",
       "        <th id=\"T_43da1aa4_0627_11e9_9529_cfe4befe3c3blevel0_row3\" class=\"row_heading level0 row3\" >82</th> \n",
       "        <th id=\"T_43da1aa4_0627_11e9_9529_cfe4befe3c3blevel1_row3\" class=\"row_heading level1 row3\" >Nirvana</th> \n",
       "        <td id=\"T_43da1aa4_0627_11e9_9529_cfe4befe3c3brow3_col0\" class=\"data row3 col0\" >9</td> \n",
       "        <td id=\"T_43da1aa4_0627_11e9_9529_cfe4befe3c3brow3_col1\" class=\"data row3 col1\" >$4.90</td> \n",
       "        <td id=\"T_43da1aa4_0627_11e9_9529_cfe4befe3c3brow3_col2\" class=\"data row3 col2\" >$44.10</td> \n",
       "    </tr>    <tr> \n",
       "        <th id=\"T_43da1aa4_0627_11e9_9529_cfe4befe3c3blevel0_row4\" class=\"row_heading level0 row4\" >19</th> \n",
       "        <th id=\"T_43da1aa4_0627_11e9_9529_cfe4befe3c3blevel1_row4\" class=\"row_heading level1 row4\" >Pursuit, Cudgel of Necromancy</th> \n",
       "        <td id=\"T_43da1aa4_0627_11e9_9529_cfe4befe3c3brow4_col0\" class=\"data row4 col0\" >8</td> \n",
       "        <td id=\"T_43da1aa4_0627_11e9_9529_cfe4befe3c3brow4_col1\" class=\"data row4 col1\" >$1.02</td> \n",
       "        <td id=\"T_43da1aa4_0627_11e9_9529_cfe4befe3c3brow4_col2\" class=\"data row4 col2\" >$8.16</td> \n",
       "    </tr></tbody> \n",
       "</table> "
      ],
      "text/plain": [
       "<pandas.io.formats.style.Styler at 0x1dfd3bd9898>"
      ]
     },
     "execution_count": 88,
     "metadata": {},
     "output_type": "execute_result"
    }
   ],
   "source": [
    "# Sort in descending order to obtain most profitable items\n",
    "most_profitable = popular_formatted.sort_values([\"Total Purchase Value\"], ascending=False).head()\n",
    "most_profitable\n",
    "# Format with currency style\n",
    "popular_formatted.style.format({\"Item Price\":\"${:,.2f}\",\n",
    "                                \"Total Purchase Value\":\"${:,.2f}\"})"
   ]
  },
  {
   "cell_type": "code",
   "execution_count": null,
   "metadata": {},
   "outputs": [],
   "source": []
  }
 ],
 "metadata": {
  "anaconda-cloud": {},
  "kernel_info": {
   "name": "python3"
  },
  "kernelspec": {
   "display_name": "Python 3",
   "language": "python",
   "name": "python3"
  },
  "language_info": {
   "codemirror_mode": {
    "name": "ipython",
    "version": 3
   },
   "file_extension": ".py",
   "mimetype": "text/x-python",
   "name": "python",
   "nbconvert_exporter": "python",
   "pygments_lexer": "ipython3",
   "version": "3.6.6"
  },
  "nteract": {
   "version": "0.2.0"
  }
 },
 "nbformat": 4,
 "nbformat_minor": 2
}
